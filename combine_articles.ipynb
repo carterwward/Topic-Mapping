{
 "metadata": {
  "language_info": {
   "codemirror_mode": {
    "name": "ipython",
    "version": 3
   },
   "file_extension": ".py",
   "mimetype": "text/x-python",
   "name": "python",
   "nbconvert_exporter": "python",
   "pygments_lexer": "ipython3",
   "version": "3.8.3-final"
  },
  "orig_nbformat": 2,
  "kernelspec": {
   "name": "python3",
   "display_name": "Python 3",
   "language": "python"
  }
 },
 "nbformat": 4,
 "nbformat_minor": 2,
 "cells": [
  {
   "cell_type": "code",
   "execution_count": 2,
   "metadata": {},
   "outputs": [
    {
     "output_type": "execute_result",
     "data": {
      "text/plain": [
       "'/Users/carterward/Documents/GitHub/Topic-Mapping'"
      ]
     },
     "metadata": {},
     "execution_count": 2
    }
   ],
   "source": [
    "import pandas as pd\n",
    "import os\n",
    "from process import lyric_tokenizer\n",
    "os.getcwd()"
   ]
  },
  {
   "cell_type": "code",
   "execution_count": 3,
   "metadata": {},
   "outputs": [],
   "source": [
    "art1 = pd.read_csv(\"data/articles1.csv\")\n",
    "art2 = pd.read_csv(\"data/articles2.csv\")\n",
    "art3 = pd.read_csv(\"data/articles3.csv\")"
   ]
  },
  {
   "cell_type": "code",
   "execution_count": 3,
   "metadata": {},
   "outputs": [
    {
     "output_type": "execute_result",
     "data": {
      "text/plain": [
       "Index(['Unnamed: 0', 'id', 'title', 'publication', 'author', 'date', 'year',\n",
       "       'month', 'url', 'content'],\n",
       "      dtype='object')"
      ]
     },
     "metadata": {},
     "execution_count": 3
    }
   ],
   "source": [
    "art1.columns"
   ]
  },
  {
   "cell_type": "code",
   "execution_count": 4,
   "metadata": {},
   "outputs": [
    {
     "output_type": "execute_result",
     "data": {
      "text/plain": [
       "Index(['Unnamed: 0', 'id', 'title', 'publication', 'author', 'date', 'year',\n",
       "       'month', 'url', 'content'],\n",
       "      dtype='object')"
      ]
     },
     "metadata": {},
     "execution_count": 4
    }
   ],
   "source": [
    "art2.columns"
   ]
  },
  {
   "cell_type": "code",
   "execution_count": 5,
   "metadata": {},
   "outputs": [
    {
     "output_type": "execute_result",
     "data": {
      "text/plain": [
       "Index(['Unnamed: 0', 'id', 'title', 'publication', 'author', 'date', 'year',\n",
       "       'month', 'url', 'content'],\n",
       "      dtype='object')"
      ]
     },
     "metadata": {},
     "execution_count": 5
    }
   ],
   "source": [
    "art3.columns"
   ]
  },
  {
   "cell_type": "code",
   "execution_count": 4,
   "metadata": {},
   "outputs": [],
   "source": [
    "master_art = pd.concat([art1,art2,art3])"
   ]
  },
  {
   "cell_type": "code",
   "execution_count": 8,
   "metadata": {},
   "outputs": [],
   "source": [
    "sample_art = master_art.sample(3000)"
   ]
  },
  {
   "cell_type": "code",
   "execution_count": 10,
   "metadata": {},
   "outputs": [
    {
     "output_type": "execute_result",
     "data": {
      "text/plain": [
       "       Unnamed: 0      id                                              title  \\\n",
       "19113      122575  182298  Following advice, potential FBI chiefs steer c...   \n",
       "20212      123674  184589  Iraqi forces seize more ground in Mosul from I...   \n",
       "24205      127667  190929  Duterte declares upcoming Philippines-U.S. war...   \n",
       "36642       37628   56467  Novak Djokovic beats Kei Nishikori in Rogers C...   \n",
       "90          53383   73585  The Trump Administration’s Conflicts of Intere...   \n",
       "...           ...     ...                                                ...   \n",
       "16695      120157  177326  Despite overtime finish, NFL Super Bowl draws ...   \n",
       "30594       84053  126337  The NYPD delivers yet another record low in crime   \n",
       "27971       81430  122739     Would you watch ‘The Real Housewives of ISIS’?   \n",
       "24175       77624  118091                                      Obama in Cuba   \n",
       "33945       34479   53296   Jared Kushner, Ivanka Trump hit the slopes again   \n",
       "\n",
       "           publication                 author        date    year  month  \\\n",
       "19113          Reuters  Julia Edwards Ainsley  2017-05-16  2017.0    5.0   \n",
       "20212          Reuters          Stephen Kalin  2017-06-28  2017.0    6.0   \n",
       "24205          Reuters           Martin Petty  2016-09-29  2016.0    9.0   \n",
       "36642              CNN                    NaN  2016-07-31  2016.0    7.0   \n",
       "90            Atlantic          Jeremy Venook  2017-01-18  2017.0    1.0   \n",
       "...                ...                    ...         ...     ...    ...   \n",
       "16695          Reuters          Tim Baysinger  2017-02-07  2017.0    2.0   \n",
       "30594    New York Post   Post Editorial Board  2017-03-01  2017.0    3.0   \n",
       "27971    New York Post       Natalie Musumeci  2017-01-06  2017.0    1.0   \n",
       "24175  National Review         Jay Nordlinger  2016-02-22  2016.0    2.0   \n",
       "33945              CNN            Betsy Klein  2017-04-13  2017.0    4.0   \n",
       "\n",
       "                                                     url  \\\n",
       "19113  http://www.reuters.com/article/us-usa-trump-fb...   \n",
       "20212  http://www.reuters.com/article/us-mideast-cris...   \n",
       "24205  http://www.reuters.com/article/us-philippines-...   \n",
       "36642                                                NaN   \n",
       "90                                                   NaN   \n",
       "...                                                  ...   \n",
       "16695  http://www.reuters.com/article/us-nfl-superbow...   \n",
       "30594  https://web.archive.org/web/20170302014136/htt...   \n",
       "27971  https://web.archive.org/web/20170107004213/htt...   \n",
       "24175  http://www.nationalreview.com/article/431692/o...   \n",
       "33945                                                NaN   \n",
       "\n",
       "                                                 content  \n",
       "19113   The Trump administration’s search for a new F...  \n",
       "20212   Iraqi forces on Tuesday pushed towards the ri...  \n",
       "24205   Philippine President Rodrigo Duterte plunged ...  \n",
       "36642   (CNN) It was an afternoon for public displays...  \n",
       "90     As with so many of Trump’s appointees so far, ...  \n",
       "...                                                  ...  \n",
       "16695  The contest included a thrilling finish, with ...  \n",
       "30594  Congrats to New York’s men and women in blue, ...  \n",
       "27971  “The Real Housewives of ISIS” is everything re...  \n",
       "24175  So President Obama will travel to Cuba next mo...  \n",
       "33945   (CNN) As President Donald Trump grappled with...  \n",
       "\n",
       "[3000 rows x 10 columns]"
      ],
      "text/html": "<div>\n<style scoped>\n    .dataframe tbody tr th:only-of-type {\n        vertical-align: middle;\n    }\n\n    .dataframe tbody tr th {\n        vertical-align: top;\n    }\n\n    .dataframe thead th {\n        text-align: right;\n    }\n</style>\n<table border=\"1\" class=\"dataframe\">\n  <thead>\n    <tr style=\"text-align: right;\">\n      <th></th>\n      <th>Unnamed: 0</th>\n      <th>id</th>\n      <th>title</th>\n      <th>publication</th>\n      <th>author</th>\n      <th>date</th>\n      <th>year</th>\n      <th>month</th>\n      <th>url</th>\n      <th>content</th>\n    </tr>\n  </thead>\n  <tbody>\n    <tr>\n      <th>19113</th>\n      <td>122575</td>\n      <td>182298</td>\n      <td>Following advice, potential FBI chiefs steer c...</td>\n      <td>Reuters</td>\n      <td>Julia Edwards Ainsley</td>\n      <td>2017-05-16</td>\n      <td>2017.0</td>\n      <td>5.0</td>\n      <td>http://www.reuters.com/article/us-usa-trump-fb...</td>\n      <td>The Trump administration’s search for a new F...</td>\n    </tr>\n    <tr>\n      <th>20212</th>\n      <td>123674</td>\n      <td>184589</td>\n      <td>Iraqi forces seize more ground in Mosul from I...</td>\n      <td>Reuters</td>\n      <td>Stephen Kalin</td>\n      <td>2017-06-28</td>\n      <td>2017.0</td>\n      <td>6.0</td>\n      <td>http://www.reuters.com/article/us-mideast-cris...</td>\n      <td>Iraqi forces on Tuesday pushed towards the ri...</td>\n    </tr>\n    <tr>\n      <th>24205</th>\n      <td>127667</td>\n      <td>190929</td>\n      <td>Duterte declares upcoming Philippines-U.S. war...</td>\n      <td>Reuters</td>\n      <td>Martin Petty</td>\n      <td>2016-09-29</td>\n      <td>2016.0</td>\n      <td>9.0</td>\n      <td>http://www.reuters.com/article/us-philippines-...</td>\n      <td>Philippine President Rodrigo Duterte plunged ...</td>\n    </tr>\n    <tr>\n      <th>36642</th>\n      <td>37628</td>\n      <td>56467</td>\n      <td>Novak Djokovic beats Kei Nishikori in Rogers C...</td>\n      <td>CNN</td>\n      <td>NaN</td>\n      <td>2016-07-31</td>\n      <td>2016.0</td>\n      <td>7.0</td>\n      <td>NaN</td>\n      <td>(CNN) It was an afternoon for public displays...</td>\n    </tr>\n    <tr>\n      <th>90</th>\n      <td>53383</td>\n      <td>73585</td>\n      <td>The Trump Administration’s Conflicts of Intere...</td>\n      <td>Atlantic</td>\n      <td>Jeremy Venook</td>\n      <td>2017-01-18</td>\n      <td>2017.0</td>\n      <td>1.0</td>\n      <td>NaN</td>\n      <td>As with so many of Trump’s appointees so far, ...</td>\n    </tr>\n    <tr>\n      <th>...</th>\n      <td>...</td>\n      <td>...</td>\n      <td>...</td>\n      <td>...</td>\n      <td>...</td>\n      <td>...</td>\n      <td>...</td>\n      <td>...</td>\n      <td>...</td>\n      <td>...</td>\n    </tr>\n    <tr>\n      <th>16695</th>\n      <td>120157</td>\n      <td>177326</td>\n      <td>Despite overtime finish, NFL Super Bowl draws ...</td>\n      <td>Reuters</td>\n      <td>Tim Baysinger</td>\n      <td>2017-02-07</td>\n      <td>2017.0</td>\n      <td>2.0</td>\n      <td>http://www.reuters.com/article/us-nfl-superbow...</td>\n      <td>The contest included a thrilling finish, with ...</td>\n    </tr>\n    <tr>\n      <th>30594</th>\n      <td>84053</td>\n      <td>126337</td>\n      <td>The NYPD delivers yet another record low in crime</td>\n      <td>New York Post</td>\n      <td>Post Editorial Board</td>\n      <td>2017-03-01</td>\n      <td>2017.0</td>\n      <td>3.0</td>\n      <td>https://web.archive.org/web/20170302014136/htt...</td>\n      <td>Congrats to New York’s men and women in blue, ...</td>\n    </tr>\n    <tr>\n      <th>27971</th>\n      <td>81430</td>\n      <td>122739</td>\n      <td>Would you watch ‘The Real Housewives of ISIS’?</td>\n      <td>New York Post</td>\n      <td>Natalie Musumeci</td>\n      <td>2017-01-06</td>\n      <td>2017.0</td>\n      <td>1.0</td>\n      <td>https://web.archive.org/web/20170107004213/htt...</td>\n      <td>“The Real Housewives of ISIS” is everything re...</td>\n    </tr>\n    <tr>\n      <th>24175</th>\n      <td>77624</td>\n      <td>118091</td>\n      <td>Obama in Cuba</td>\n      <td>National Review</td>\n      <td>Jay Nordlinger</td>\n      <td>2016-02-22</td>\n      <td>2016.0</td>\n      <td>2.0</td>\n      <td>http://www.nationalreview.com/article/431692/o...</td>\n      <td>So President Obama will travel to Cuba next mo...</td>\n    </tr>\n    <tr>\n      <th>33945</th>\n      <td>34479</td>\n      <td>53296</td>\n      <td>Jared Kushner, Ivanka Trump hit the slopes again</td>\n      <td>CNN</td>\n      <td>Betsy Klein</td>\n      <td>2017-04-13</td>\n      <td>2017.0</td>\n      <td>4.0</td>\n      <td>NaN</td>\n      <td>(CNN) As President Donald Trump grappled with...</td>\n    </tr>\n  </tbody>\n</table>\n<p>3000 rows × 10 columns</p>\n</div>"
     },
     "metadata": {},
     "execution_count": 10
    }
   ],
   "source": [
    "sample_art"
   ]
  },
  {
   "cell_type": "code",
   "execution_count": 12,
   "metadata": {
    "tags": []
   },
   "outputs": [
    {
     "output_type": "stream",
     "name": "stdout",
     "text": [
      "100\n",
      "200\n",
      "300\n",
      "400\n",
      "500\n",
      "600\n",
      "700\n",
      "800\n",
      "900\n",
      "1000\n",
      "1100\n",
      "1200\n",
      "1300\n",
      "1400\n",
      "1500\n",
      "1600\n",
      "1700\n",
      "1800\n",
      "1900\n",
      "2000\n",
      "2100\n",
      "2200\n",
      "2300\n",
      "2400\n",
      "2500\n",
      "2600\n",
      "2700\n",
      "2800\n",
      "2900\n",
      "3000\n"
     ]
    }
   ],
   "source": [
    "tokenized_art =[]\n",
    "i = 1\n",
    "for art in sample_art['content'].values:\n",
    "    if i % 100 == 0:\n",
    "        print(i)\n",
    "    tokenized_art.append(' '.join(lyric_tokenizer(art)))\n",
    "    i+=1"
   ]
  },
  {
   "cell_type": "code",
   "execution_count": 14,
   "metadata": {},
   "outputs": [],
   "source": [
    "sample_art['tokenized_content'] = tokenized_art"
   ]
  },
  {
   "cell_type": "code",
   "execution_count": 16,
   "metadata": {},
   "outputs": [],
   "source": [
    "sample_art.to_csv(\"article_sample.csv\")"
   ]
  },
  {
   "cell_type": "code",
   "execution_count": null,
   "metadata": {},
   "outputs": [],
   "source": []
  }
 ]
}