{
 "metadata": {
  "language_info": {
   "codemirror_mode": {
    "name": "ipython",
    "version": 3
   },
   "file_extension": ".py",
   "mimetype": "text/x-python",
   "name": "python",
   "nbconvert_exporter": "python",
   "pygments_lexer": "ipython3",
   "version": "3.8.3-final"
  },
  "orig_nbformat": 2,
  "kernelspec": {
   "name": "python3",
   "display_name": "Python 3",
   "language": "python"
  }
 },
 "nbformat": 4,
 "nbformat_minor": 2,
 "cells": [
  {
   "cell_type": "code",
   "execution_count": 1,
   "metadata": {},
   "outputs": [
    {
     "output_type": "stream",
     "name": "stdout",
     "text": [
      "['test', 'shit']\n"
     ]
    },
    {
     "output_type": "execute_result",
     "data": {
      "text/plain": [
       "'/Users/carterward/Documents/GitHub/Topic-Mapping'"
      ]
     },
     "metadata": {},
     "execution_count": 1
    }
   ],
   "source": [
    "import pandas as pd\n",
    "import os\n",
    "from process import lyric_tokenizer\n",
    "os.getcwd()"
   ]
  },
  {
   "cell_type": "code",
   "execution_count": 2,
   "metadata": {},
   "outputs": [],
   "source": [
    "art1 = pd.read_csv(\"data/articles1.csv\")\n",
    "art2 = pd.read_csv(\"data/articles2.csv\")\n",
    "art3 = pd.read_csv(\"data/articles3.csv\")"
   ]
  },
  {
   "cell_type": "code",
   "execution_count": 3,
   "metadata": {},
   "outputs": [
    {
     "output_type": "execute_result",
     "data": {
      "text/plain": [
       "Index(['Unnamed: 0', 'id', 'title', 'publication', 'author', 'date', 'year',\n",
       "       'month', 'url', 'content'],\n",
       "      dtype='object')"
      ]
     },
     "metadata": {},
     "execution_count": 3
    }
   ],
   "source": [
    "art1.columns"
   ]
  },
  {
   "cell_type": "code",
   "execution_count": 4,
   "metadata": {},
   "outputs": [
    {
     "output_type": "execute_result",
     "data": {
      "text/plain": [
       "Index(['Unnamed: 0', 'id', 'title', 'publication', 'author', 'date', 'year',\n",
       "       'month', 'url', 'content'],\n",
       "      dtype='object')"
      ]
     },
     "metadata": {},
     "execution_count": 4
    }
   ],
   "source": [
    "art2.columns"
   ]
  },
  {
   "cell_type": "code",
   "execution_count": 5,
   "metadata": {},
   "outputs": [
    {
     "output_type": "execute_result",
     "data": {
      "text/plain": [
       "Index(['Unnamed: 0', 'id', 'title', 'publication', 'author', 'date', 'year',\n",
       "       'month', 'url', 'content'],\n",
       "      dtype='object')"
      ]
     },
     "metadata": {},
     "execution_count": 5
    }
   ],
   "source": [
    "art3.columns"
   ]
  },
  {
   "cell_type": "code",
   "execution_count": 6,
   "metadata": {},
   "outputs": [],
   "source": [
    "master_art = pd.concat([art1,art2,art3])"
   ]
  },
  {
   "cell_type": "code",
   "execution_count": 7,
   "metadata": {},
   "outputs": [
    {
     "output_type": "stream",
     "name": "stdout",
     "text": [
      "1425700\n"
     ]
    }
   ],
   "source": [
    "print(master_art.size)"
   ]
  },
  {
   "cell_type": "code",
   "execution_count": 9,
   "metadata": {
    "tags": []
   },
   "outputs": [
    {
     "output_type": "stream",
     "name": "stdout",
     "text": [
      "has sold billions of dollars of weapons to the island, has long sought to avoid a conflict between the two sides. But the election of Mr. Trump could complicate matters. He has antagonized Beijing with a series of critical comments. The   has also questioned the One China policy, which has underpinned relations between Washington and Beijing for decades, and criticized China’s military buildup in the disputed South China Sea. Bonnie S. Glaser, an Asia expert at the Center for Strategic and International Studies in Washington, said Ms. Tsai’s words might reassure American officials that she would not pursue rash policies in the face of China’s show of strength. “She remains calm, rational and patient,” Ms. Glaser wrote in an email. Still, Ms. Tsai, whose Democratic Progressive Party has traditionally favored independence for Taiwan, could face serious challenges in the coming months. Many people in Taiwan are nervous that Mr. Trump will use the island as a bargaining chip against China. And Ms. Tsai’s preference for stability in the region may not mesh with Mr. Trump’s bombastic style. Richard C. Bush, the director of the Center for East Asia Policy Studies at the Brookings Institution in Washington, said Ms. Tsai understood the need to “maintain a balance among relations with China, relations with the United States and domestic politics. ” Ms. Tsai’s vision, however, “may not align well with the incoming Trump administration’s apparent belief that it can pressure China on all fronts more than the Obama administration has,” he said. Ms. Tsai also sought to quell concerns about planned stopovers in Houston and San Francisco during a visit to Central America scheduled for January. The Chinese Ministry of Foreign Affairs on Thursday called on the United States to block Ms. Tsai from entering the country, warning that such a visit would embolden independence activists in Taiwan. Ms. Tsai described the visit as “unofficial,” saying, “A transit stop is just a transit stop. ”\n",
      "Danny Cahill stood, slightly dazed, in a blizzard of confetti as the audience screamed and his family ran on stage. He had won Season 8 of NBC’s reality television show “The Biggest Loser,” shedding more weight than anyone ever had on the program  —   an astonishing 239 pounds in seven months. When he got on the scale for all to see that evening, Dec. 8, 2009, he weighed just 191 pounds, down from 430. Dressed in a   and   shorts, he was lean, athletic and as handsome as a model. “I’ve got my life back,” he declared. “I mean, I feel like a million bucks. ” Mr. Cahill left the show’s stage in Hollywood and flew directly to New York to start a triumphal tour of the talk shows, chatting with Jay Leno, Regis Philbin and Joy Behar. As he heard from fans all over the world, his elation knew no bounds. But in the years since, more than 100 pounds have crept back onto his    frame despite his best efforts. In fact, most of that season’s 16 contestants have regained much if not all the weight they lost so arduously. Some are even heavier now. Yet their experiences, while a bitter personal disappointment, have been a gift to science. A study of Season 8’s contestants has yielded surprising new discoveries about the physiology of obesity that help explain why so many people struggle unsuccessfully to keep off the weight they lose. Kevin Hall, a scientist at a federal research center who admits to a weakness for reality TV, had the idea to follow the “Biggest Loser” contestants for six years after that victorious night. The project was the first to measure what happened to people over as long as six years after they had lost large amounts of weight with intensive dieting and exercise. The results, the researchers said, were stunning. They showed just how hard the body fights back against weight loss. “It is frightening and amazing,” said Dr. Hall, an expert on metabolism at the National Institute of Diabetes and Digestive and Kidney Diseases, which is part of the National Institutes of Health. “I am just blown away. ” It has to do with resting metabolism, which determines how many calories a person burns when at rest. When the show began, the contestants, though hugely overweight, had normal metabolisms for their size, meaning they were burning a normal number of calories for people of their weight. When it ended, their metabolisms had slowed radically and their bodies were not burning enough calories to maintain their thinner sizes. Researchers knew that just about anyone who deliberately loses weight  —   even if they start at a normal weight or even underweight  —   will have a slower metabolism when the diet ends. So they were not surprised to see that “The Biggest Loser” contestants had slow metabolisms when the show ended. What shocked the researchers was what happened next: As the years went by and the numbers on the scale climbed, the contestants’ metabolisms did not recover. They became even slower, and the pounds kept piling on. It was as if their bodies were intensifying their effort to pull the contestants back to their original weight. Mr. Cahill was one of the worst off. As he regained more than 100 pounds, his metabolism slowed so much that, just to maintain his current weight of 295 pounds, he now has to eat 800 calories a day less than a typical man his size. Anything more turns to fat. The struggles the contestants went through help explain why it has been so hard to make headway against the nation’s obesity problem, which afflicts more than a third of American adults. Despite spending billions of dollars on   drugs and dieting programs, even the most motivated are working against their own biology. Their experience shows that the body will fight back for years. And that, said Dr. Michael Schwartz, an obesity and diabetes researcher who is a professor of medicine at the University of Washington, is “new and important. ” “The key point is that you can be on TV, you can lose enormous amounts of weight, you can go on for six years, but you can’t get away from a basic biological reality,” said Dr. Schwartz, who was not involved in the study. “As long as you are below your initial weight, your body is going to try to get you back. ” The show’s doctor, Robert Huizenga, says he expected the contestants’ metabolic rates to fall just after the show, but was hoping for a smaller drop. He questioned, though, whether the measurements six years later were accurate. But maintaining weight loss is difficult, he said, which is why he tells contestants that they should exercise at least nine hours a week and monitor their diets to keep the weight off. “Unfortunately, many contestants are unable to find or afford adequate ongoing support with exercise doctors, psychologists, sleep specialists, and trainers  —   and that’s something we all need to work hard to change,” he said in an email. The study’s findings, to be published on Monday in the journal Obesity, are part of a scientific push to answer some of the most fundamental questions about obesity. Researchers are figuring out why being fat makes so many people develop diabetes and other medical conditions, and they are searching for new ways to block the poison in fat. They are starting to unravel the reasons bariatric surgery allows most people to lose significant amounts of weight when dieting so often fails. And they are looking afresh at medical care for obese people. The hope is that this work will eventually lead to new therapies that treat obesity as a chronic disease and can help keep weight under control for life. Most people who have tried to lose weight know how hard it is to keep the weight off, but many blame themselves when the pounds come back. But what obesity research has consistently shown is that dieters are at the mercy of their own bodies, which muster hormones and an altered metabolic rate to pull them back to their old weights, whether that is hundreds of pounds more or that extra 10 or 15 that many people are trying to keep off. There is always a weight a person’s body maintains without any effort. And while it is not known why that weight can change over the years  —   it may be an effect of aging  —   at any point, there is a weight that is easy to maintain, and that is the weight the body fights to defend. Finding a way to thwart these mechanisms is the goal scientists are striving for. First, though, they are trying to understand them in greater detail. Dr. David Ludwig, the director of the New Balance Foundation Obesity Prevention Center at Boston Children’s Hospital, who was not involved in the research, said the findings showed the need for new approaches to weight control. He cautioned that the study was limited by its small size and the lack of a control group of obese people who did not lose weight. But, he added, the findings made sense. “This is a subset of the most successful” dieters, he said. “If they don’t show a return to normal in metabolism, what hope is there for the rest of us?” Still, he added, “that shouldn’t be interpreted to mean we are doomed to battle our biology or remain fat. It means we need to explore other approaches. ” Some scientists say weight maintenance has to be treated as an issue separate from weight loss. Only when that challenge is solved, they say, can progress truly be made against obesity. “There is a lot of basic research we still need to do,” said Dr. Margaret Jackson, who is directing a project at Pfizer. Her group is testing a drug that, in animals at least, acts like leptin, a hormone that controls hunger. With weight loss, leptin levels fall and people become hungry. The idea is to trick the brains of people who have lost weight so they do not become ravenous for lack of leptin. While many of the contestants kept enough weight off to improve their health and became more physically active, the low weights they strived to keep eluded all but one of them: Erinn Egbert, a   caregiver for her mother in Versailles, Ky. And she struggles mightily to keep the pounds off because her metabolism burns 552 fewer calories a day than would be expected for someone her size. “What people don’t understand is that a treat is like a drug,” said Ms. Egbert, who went from 263 pounds to just under 176 on the show, and now weighs between 152 and 157. “Two treats can turn into a binge over a   period. That is what I struggle with. ” Six years after Season 8 ended, 14 of the 16 contestants went to the N. I. H. last fall for three days of testing. The researchers were concerned that the contestants might try to frantically lose weight before coming in, so they shipped equipment to them that would measure their physical activity and weight before their visit, and had the information sent remotely to the N. I. H. The contestants received their metabolic results last week. They were shocked, but on further reflection, decided the numbers explained a lot. “All my friends were drinking beer and not gaining massive amounts of weight,” Mr. Cahill said. “The moment I started drinking beer, there goes another 20 pounds. I said, ‘This is not right. Something is wrong with my body. ’” Sean Algaier, 36, a pastor from Charlotte, N. C. feels cheated. He went from 444 pounds to 289 as a contestant on the show. Now his weight is up to 450 again, and he is burning 458 fewer calories a day than would be expected for a man his size. “It’s kind of like hearing you have a life sentence,” he said. Slower metabolisms were not the only reason the contestants regained weight, though. They constantly battled hunger, cravings and binges. The investigators found at least one reason: plummeting levels of leptin. The contestants started out with normal levels of leptin. By the season’s finale, they had almost no leptin at all, which would have made them ravenous all the time. As their weight returned, their leptin levels drifted up again, but only to about half of what they had been when the season began, the researchers found, thus helping to explain their urges to eat. Leptin is just one of a cluster of hormones that control hunger, and although Dr. Hall and his colleagues did not measure the rest of them, another group of researchers, in a different project, did. In a   study funded by Australia’s National Health and Medical Research Council, Dr. Joseph Proietto of the University of Melbourne and his colleagues recruited 50 overweight people who agreed to consume just 550 calories a day for eight or nine weeks. They lost an average of nearly 30 pounds, but over the next year, the pounds started coming back. Dr. Proietto and his colleagues looked at leptin and four other hormones that satiate people. Levels of most of them fell in their study subjects. They also looked at a hormone that makes people want to eat. Its level rose. “What was surprising was what a coordinated effect it is,” Dr. Proietto said. “The body puts multiple mechanisms in place to get you back to your weight. The only way to maintain weight loss is to be hungry all the time. We desperately need agents that will suppress hunger and that are safe with   use. ” Mr. Cahill, 46, said his weight problem began when he was in the third grade. He got fat, then fatter. He would starve himself, and then eat a whole can of cake frosting with a spoon. Afterward, he would cower in the pantry off the kitchen, feeling overwhelmed with shame. Over the years, his insatiable urge to eat kept overcoming him, and his weight climbed: 370 pounds, 400, 460, 485. “I used to look at myself and think, ‘I am horrible, I am a monster, subhuman,’” he said. He began sleeping in a recliner because he was too heavy to sleep lying down. Walking hurt stairs were agony. Buying clothes with a 68 waist was humiliating. “I remember sitting in a dressing room one day, and nothing would fit. I looked at the traffic outside on the street and thought, ‘I should just run out in front of a car. ’” He eventually seized on “The Biggest Loser” as his best chance to lose enough weight to live a normal life. He tried three times and was finally selected. Before the show began, the contestants underwent medical tests to be sure they could endure the rigorous schedule that lay ahead. And rigorous it was. Sequestered on the “Biggest Loser” ranch with the other contestants, Mr. Cahill exercised seven hours a day, burning 8, 000 to 9, 000 calories according to a calorie tracker the show gave him. He took electrolyte tablets to help replace the salts he lost through sweating, consuming many fewer calories than before. Eventually, he and the others were sent home for four months to try to keep losing weight on their own. Mr. Cahill set a goal of a   deficit per day. The idea was to lose a pound a day. He quit his job as a land surveyor to do it. His routine went like this: Wake up at 5 a. m. and run on a treadmill for 45 minutes. Have breakfast  —   typically one egg and two egg whites, half a grapefruit and a piece of sprouted grain toast. Run on the treadmill for another 45 minutes. Rest for 40 minutes bike ride nine miles to a gym. Work out for two and a half hours. Shower, ride home, eat lunch  —   typically a grilled skinless chicken breast, a cup of broccoli and 10 spears of asparagus. Rest for an hour. Drive to the gym for another round of exercise. If he had not burned enough calories to hit his goal, he went back to the gym after dinner to work out some more. At times, he found himself running around his neighborhood in the dark until his   indicator reset to zero at midnight. On the day of the   on the show’s finale, Mr. Cahill and the others dressed carefully to hide the rolls of loose skin that remained, to their surprise and horror, after they had lost weight. They wore compression undergarments to hold it in. Mr. Cahill knew he could not maintain his finale weight of 191 pounds. He was so mentally and physically exhausted he barely moved for two weeks after his publicity tour ended. But he had started a new career giving motivational speeches as the biggest loser ever, and for the next four years, he managed to keep his weight below 255 pounds by exercising two to three hours a day. But two years ago, he went back to his job as a surveyor, and the pounds started coming back. Soon the scale hit 265. Mr. Cahill started weighing and measuring his food again and stepped up his exercise. He got back down to 235 to 240 pounds. But his weight edged up again, to 275, then 295. His slow metabolism is part of the problem, and so are his food cravings. He opens a bag of chips, thinking he will have just a few. “I’d eat five bites. Then I’d black out and eat the whole bag of chips and say, ‘What did I do? ’” Dr. Lee Kaplan, an obesity researcher at Harvard, says the brain sets the number of calories we consume, and it can be easy for people to miss that how much they eat matters less than the fact that their bodies want to hold on to more of those calories. Dr. Michael Rosenbaum, an obesity researcher at Columbia University who has collaborated with Dr. Hall in previous studies, said the body’s systems for regulating how many calories are consumed and how many are burned are tightly coupled when people are not strenuously trying to lose weight or to maintain a significant weight loss. Still, pounds can insidiously creep on. “We eat about 900, 000 to a million calories a year, and burn them all except those annoying 3, 000 to 5, 000 calories that result in an average annual weight gain of about one to two pounds,” he said. “These very small differences between intake and output average out to only about 10 to 20 calories per day  —   less than one Starburst candy  —   but the cumulative consequences over time can be devastating. ” “It is not clear whether this small imbalance and the resultant weight gain that most of us experience as we age are the consequences of changes in lifestyle, the environment or just the biology of aging,” Dr. Rosenbaum added. The effects of small imbalances between calories eaten and calories burned are more pronounced when people deliberately lose weight, Dr. Hall said. Yes, there are signals to regain weight, but he wondered how many extra calories people were driven to eat. He found a way to figure that out. He analyzed data from a clinical trial in which people took a diabetes drug, canagliflozin, that makes them spill 360 calories a day into their urine, or took a placebo. The drug has no known effect on the brain, and the person does not realize those calories are being spilled. Those taking the drug gradually lost weight. But for every five pounds they lost, they were, without realizing it, eating an additional 200 calories a day. Those extra calories, Dr. Hall said, were a bigger driver of weight regained than the slowing of the metabolism. And, he added, if people fought the urge to eat those calories, they would be hungry. “Unless they continue to fight it constantly, they will regain the weight,” he said. All this does not mean that modest weight loss is hopeless, experts say. Individuals respond differently to diet manipulations  —     or   diets, for example  —   and to exercise and   drugs, among other interventions. But Dr. Ludwig said that simply cutting calories was not the answer. “There are no doubt exceptional individuals who can ignore primal biological signals and maintain weight loss for the long term by restricting calories,” he said, but he added that “for most people, the combination of incessant hunger and slowing metabolism is a recipe for weight regain  —   explaining why so few individuals can maintain weight loss for more than a few months. ” Dr. Rosenbaum agreed. “The difficulty in keeping weight off reflects biology, not a pathological lack of willpower affecting   of the U. S. A. ,” he said. Mr. Cahill knows that now. And with his report from Dr. Hall’s group showing just how much his metabolism had slowed, he stopped blaming himself for his weight gain. “That shame that was on my shoulders went off,” he said.\n"
     ]
    },
    {
     "output_type": "error",
     "ename": "KeyboardInterrupt",
     "evalue": "",
     "traceback": [
      "\u001b[0;31m---------------------------------------------------------------------------\u001b[0m",
      "\u001b[0;31mKeyboardInterrupt\u001b[0m                         Traceback (most recent call last)",
      "\u001b[0;32m<ipython-input-9-e4cbaf3bf4e4>\u001b[0m in \u001b[0;36m<module>\u001b[0;34m\u001b[0m\n\u001b[1;32m      2\u001b[0m \u001b[0;32mfor\u001b[0m \u001b[0mart\u001b[0m \u001b[0;32min\u001b[0m \u001b[0mmaster_art\u001b[0m\u001b[0;34m[\u001b[0m\u001b[0;34m'content'\u001b[0m\u001b[0;34m]\u001b[0m\u001b[0;34m.\u001b[0m\u001b[0mvalues\u001b[0m\u001b[0;34m:\u001b[0m\u001b[0;34m\u001b[0m\u001b[0;34m\u001b[0m\u001b[0m\n\u001b[1;32m      3\u001b[0m     \u001b[0mprint\u001b[0m\u001b[0;34m(\u001b[0m\u001b[0mart\u001b[0m\u001b[0;34m)\u001b[0m\u001b[0;34m\u001b[0m\u001b[0;34m\u001b[0m\u001b[0m\n\u001b[0;32m----> 4\u001b[0;31m     \u001b[0mtokenized_art\u001b[0m\u001b[0;34m.\u001b[0m\u001b[0mappend\u001b[0m\u001b[0;34m(\u001b[0m\u001b[0;34m' '\u001b[0m\u001b[0;34m.\u001b[0m\u001b[0mjoin\u001b[0m\u001b[0;34m(\u001b[0m\u001b[0mlyric_tokenizer\u001b[0m\u001b[0;34m(\u001b[0m\u001b[0mart\u001b[0m\u001b[0;34m)\u001b[0m\u001b[0;34m)\u001b[0m\u001b[0;34m)\u001b[0m\u001b[0;34m\u001b[0m\u001b[0;34m\u001b[0m\u001b[0m\n\u001b[0m",
      "\u001b[0;32m~/Documents/GitHub/Topic-Mapping/process.py\u001b[0m in \u001b[0;36mlyric_tokenizer\u001b[0;34m(doc)\u001b[0m\n\u001b[1;32m     24\u001b[0m \u001b[0;34m\u001b[0m\u001b[0m\n\u001b[1;32m     25\u001b[0m \u001b[0;32mdef\u001b[0m \u001b[0mlyric_tokenizer\u001b[0m\u001b[0;34m(\u001b[0m\u001b[0mdoc\u001b[0m\u001b[0;34m)\u001b[0m\u001b[0;34m:\u001b[0m\u001b[0;34m\u001b[0m\u001b[0;34m\u001b[0m\u001b[0m\n\u001b[0;32m---> 26\u001b[0;31m     \u001b[0mnlp\u001b[0m \u001b[0;34m=\u001b[0m \u001b[0mspacy\u001b[0m\u001b[0;34m.\u001b[0m\u001b[0mload\u001b[0m\u001b[0;34m(\u001b[0m\u001b[0;34m'en_core_web_sm'\u001b[0m\u001b[0;34m)\u001b[0m\u001b[0;34m\u001b[0m\u001b[0;34m\u001b[0m\u001b[0m\n\u001b[0m\u001b[1;32m     27\u001b[0m     stops = [\"yeah\", '\\n', 'intro', 'hook', 'verse', 'yes', 'oh', 'chorus', 'like', 'hey', 'okay',\n\u001b[1;32m     28\u001b[0m     'uh', 'blah', 'ooooooh', 'woah', 'la', 'aight', 'whoa', 'til', 'o', 'huh', 'ya']\n",
      "\u001b[0;32m/Library/Frameworks/Python.framework/Versions/3.8/lib/python3.8/site-packages/spacy/__init__.py\u001b[0m in \u001b[0;36mload\u001b[0;34m(name, **overrides)\u001b[0m\n\u001b[1;32m     28\u001b[0m     \u001b[0;32mif\u001b[0m \u001b[0mdepr_path\u001b[0m \u001b[0;32mnot\u001b[0m \u001b[0;32min\u001b[0m \u001b[0;34m(\u001b[0m\u001b[0;32mTrue\u001b[0m\u001b[0;34m,\u001b[0m \u001b[0;32mFalse\u001b[0m\u001b[0;34m,\u001b[0m \u001b[0;32mNone\u001b[0m\u001b[0;34m)\u001b[0m\u001b[0;34m:\u001b[0m\u001b[0;34m\u001b[0m\u001b[0;34m\u001b[0m\u001b[0m\n\u001b[1;32m     29\u001b[0m         \u001b[0mdeprecation_warning\u001b[0m\u001b[0;34m(\u001b[0m\u001b[0mWarnings\u001b[0m\u001b[0;34m.\u001b[0m\u001b[0mW001\u001b[0m\u001b[0;34m.\u001b[0m\u001b[0mformat\u001b[0m\u001b[0;34m(\u001b[0m\u001b[0mpath\u001b[0m\u001b[0;34m=\u001b[0m\u001b[0mdepr_path\u001b[0m\u001b[0;34m)\u001b[0m\u001b[0;34m)\u001b[0m\u001b[0;34m\u001b[0m\u001b[0;34m\u001b[0m\u001b[0m\n\u001b[0;32m---> 30\u001b[0;31m     \u001b[0;32mreturn\u001b[0m \u001b[0mutil\u001b[0m\u001b[0;34m.\u001b[0m\u001b[0mload_model\u001b[0m\u001b[0;34m(\u001b[0m\u001b[0mname\u001b[0m\u001b[0;34m,\u001b[0m \u001b[0;34m**\u001b[0m\u001b[0moverrides\u001b[0m\u001b[0;34m)\u001b[0m\u001b[0;34m\u001b[0m\u001b[0;34m\u001b[0m\u001b[0m\n\u001b[0m\u001b[1;32m     31\u001b[0m \u001b[0;34m\u001b[0m\u001b[0m\n\u001b[1;32m     32\u001b[0m \u001b[0;34m\u001b[0m\u001b[0m\n",
      "\u001b[0;32m/Library/Frameworks/Python.framework/Versions/3.8/lib/python3.8/site-packages/spacy/util.py\u001b[0m in \u001b[0;36mload_model\u001b[0;34m(name, **overrides)\u001b[0m\n\u001b[1;32m    162\u001b[0m             \u001b[0;32mreturn\u001b[0m \u001b[0mload_model_from_link\u001b[0m\u001b[0;34m(\u001b[0m\u001b[0mname\u001b[0m\u001b[0;34m,\u001b[0m \u001b[0;34m**\u001b[0m\u001b[0moverrides\u001b[0m\u001b[0;34m)\u001b[0m\u001b[0;34m\u001b[0m\u001b[0;34m\u001b[0m\u001b[0m\n\u001b[1;32m    163\u001b[0m         \u001b[0;32mif\u001b[0m \u001b[0mis_package\u001b[0m\u001b[0;34m(\u001b[0m\u001b[0mname\u001b[0m\u001b[0;34m)\u001b[0m\u001b[0;34m:\u001b[0m  \u001b[0;31m# installed as package\u001b[0m\u001b[0;34m\u001b[0m\u001b[0;34m\u001b[0m\u001b[0m\n\u001b[0;32m--> 164\u001b[0;31m             \u001b[0;32mreturn\u001b[0m \u001b[0mload_model_from_package\u001b[0m\u001b[0;34m(\u001b[0m\u001b[0mname\u001b[0m\u001b[0;34m,\u001b[0m \u001b[0;34m**\u001b[0m\u001b[0moverrides\u001b[0m\u001b[0;34m)\u001b[0m\u001b[0;34m\u001b[0m\u001b[0;34m\u001b[0m\u001b[0m\n\u001b[0m\u001b[1;32m    165\u001b[0m         \u001b[0;32mif\u001b[0m \u001b[0mPath\u001b[0m\u001b[0;34m(\u001b[0m\u001b[0mname\u001b[0m\u001b[0;34m)\u001b[0m\u001b[0;34m.\u001b[0m\u001b[0mexists\u001b[0m\u001b[0;34m(\u001b[0m\u001b[0;34m)\u001b[0m\u001b[0;34m:\u001b[0m  \u001b[0;31m# path to model data directory\u001b[0m\u001b[0;34m\u001b[0m\u001b[0;34m\u001b[0m\u001b[0m\n\u001b[1;32m    166\u001b[0m             \u001b[0;32mreturn\u001b[0m \u001b[0mload_model_from_path\u001b[0m\u001b[0;34m(\u001b[0m\u001b[0mPath\u001b[0m\u001b[0;34m(\u001b[0m\u001b[0mname\u001b[0m\u001b[0;34m)\u001b[0m\u001b[0;34m,\u001b[0m \u001b[0;34m**\u001b[0m\u001b[0moverrides\u001b[0m\u001b[0;34m)\u001b[0m\u001b[0;34m\u001b[0m\u001b[0;34m\u001b[0m\u001b[0m\n",
      "\u001b[0;32m/Library/Frameworks/Python.framework/Versions/3.8/lib/python3.8/site-packages/spacy/util.py\u001b[0m in \u001b[0;36mload_model_from_package\u001b[0;34m(name, **overrides)\u001b[0m\n\u001b[1;32m    183\u001b[0m     \u001b[0;34m\"\"\"Load a model from an installed package.\"\"\"\u001b[0m\u001b[0;34m\u001b[0m\u001b[0;34m\u001b[0m\u001b[0m\n\u001b[1;32m    184\u001b[0m     \u001b[0mcls\u001b[0m \u001b[0;34m=\u001b[0m \u001b[0mimportlib\u001b[0m\u001b[0;34m.\u001b[0m\u001b[0mimport_module\u001b[0m\u001b[0;34m(\u001b[0m\u001b[0mname\u001b[0m\u001b[0;34m)\u001b[0m\u001b[0;34m\u001b[0m\u001b[0;34m\u001b[0m\u001b[0m\n\u001b[0;32m--> 185\u001b[0;31m     \u001b[0;32mreturn\u001b[0m \u001b[0mcls\u001b[0m\u001b[0;34m.\u001b[0m\u001b[0mload\u001b[0m\u001b[0;34m(\u001b[0m\u001b[0;34m**\u001b[0m\u001b[0moverrides\u001b[0m\u001b[0;34m)\u001b[0m\u001b[0;34m\u001b[0m\u001b[0;34m\u001b[0m\u001b[0m\n\u001b[0m\u001b[1;32m    186\u001b[0m \u001b[0;34m\u001b[0m\u001b[0m\n\u001b[1;32m    187\u001b[0m \u001b[0;34m\u001b[0m\u001b[0m\n",
      "\u001b[0;32m/Library/Frameworks/Python.framework/Versions/3.8/lib/python3.8/site-packages/en_core_web_sm/__init__.py\u001b[0m in \u001b[0;36mload\u001b[0;34m(**overrides)\u001b[0m\n\u001b[1;32m     10\u001b[0m \u001b[0;34m\u001b[0m\u001b[0m\n\u001b[1;32m     11\u001b[0m \u001b[0;32mdef\u001b[0m \u001b[0mload\u001b[0m\u001b[0;34m(\u001b[0m\u001b[0;34m**\u001b[0m\u001b[0moverrides\u001b[0m\u001b[0;34m)\u001b[0m\u001b[0;34m:\u001b[0m\u001b[0;34m\u001b[0m\u001b[0;34m\u001b[0m\u001b[0m\n\u001b[0;32m---> 12\u001b[0;31m     \u001b[0;32mreturn\u001b[0m \u001b[0mload_model_from_init_py\u001b[0m\u001b[0;34m(\u001b[0m\u001b[0m__file__\u001b[0m\u001b[0;34m,\u001b[0m \u001b[0;34m**\u001b[0m\u001b[0moverrides\u001b[0m\u001b[0;34m)\u001b[0m\u001b[0;34m\u001b[0m\u001b[0;34m\u001b[0m\u001b[0m\n\u001b[0m",
      "\u001b[0;32m/Library/Frameworks/Python.framework/Versions/3.8/lib/python3.8/site-packages/spacy/util.py\u001b[0m in \u001b[0;36mload_model_from_init_py\u001b[0;34m(init_file, **overrides)\u001b[0m\n\u001b[1;32m    226\u001b[0m     \u001b[0;32mif\u001b[0m \u001b[0;32mnot\u001b[0m \u001b[0mmodel_path\u001b[0m\u001b[0;34m.\u001b[0m\u001b[0mexists\u001b[0m\u001b[0;34m(\u001b[0m\u001b[0;34m)\u001b[0m\u001b[0;34m:\u001b[0m\u001b[0;34m\u001b[0m\u001b[0;34m\u001b[0m\u001b[0m\n\u001b[1;32m    227\u001b[0m         \u001b[0;32mraise\u001b[0m \u001b[0mIOError\u001b[0m\u001b[0;34m(\u001b[0m\u001b[0mErrors\u001b[0m\u001b[0;34m.\u001b[0m\u001b[0mE052\u001b[0m\u001b[0;34m.\u001b[0m\u001b[0mformat\u001b[0m\u001b[0;34m(\u001b[0m\u001b[0mpath\u001b[0m\u001b[0;34m=\u001b[0m\u001b[0mpath2str\u001b[0m\u001b[0;34m(\u001b[0m\u001b[0mdata_path\u001b[0m\u001b[0;34m)\u001b[0m\u001b[0;34m)\u001b[0m\u001b[0;34m)\u001b[0m\u001b[0;34m\u001b[0m\u001b[0;34m\u001b[0m\u001b[0m\n\u001b[0;32m--> 228\u001b[0;31m     \u001b[0;32mreturn\u001b[0m \u001b[0mload_model_from_path\u001b[0m\u001b[0;34m(\u001b[0m\u001b[0mdata_path\u001b[0m\u001b[0;34m,\u001b[0m \u001b[0mmeta\u001b[0m\u001b[0;34m,\u001b[0m \u001b[0;34m**\u001b[0m\u001b[0moverrides\u001b[0m\u001b[0;34m)\u001b[0m\u001b[0;34m\u001b[0m\u001b[0;34m\u001b[0m\u001b[0m\n\u001b[0m\u001b[1;32m    229\u001b[0m \u001b[0;34m\u001b[0m\u001b[0m\n\u001b[1;32m    230\u001b[0m \u001b[0;34m\u001b[0m\u001b[0m\n",
      "\u001b[0;32m/Library/Frameworks/Python.framework/Versions/3.8/lib/python3.8/site-packages/spacy/util.py\u001b[0m in \u001b[0;36mload_model_from_path\u001b[0;34m(model_path, meta, **overrides)\u001b[0m\n\u001b[1;32m    209\u001b[0m             \u001b[0mcomponent\u001b[0m \u001b[0;34m=\u001b[0m \u001b[0mnlp\u001b[0m\u001b[0;34m.\u001b[0m\u001b[0mcreate_pipe\u001b[0m\u001b[0;34m(\u001b[0m\u001b[0mfactory\u001b[0m\u001b[0;34m,\u001b[0m \u001b[0mconfig\u001b[0m\u001b[0;34m=\u001b[0m\u001b[0mconfig\u001b[0m\u001b[0;34m)\u001b[0m\u001b[0;34m\u001b[0m\u001b[0;34m\u001b[0m\u001b[0m\n\u001b[1;32m    210\u001b[0m             \u001b[0mnlp\u001b[0m\u001b[0;34m.\u001b[0m\u001b[0madd_pipe\u001b[0m\u001b[0;34m(\u001b[0m\u001b[0mcomponent\u001b[0m\u001b[0;34m,\u001b[0m \u001b[0mname\u001b[0m\u001b[0;34m=\u001b[0m\u001b[0mname\u001b[0m\u001b[0;34m)\u001b[0m\u001b[0;34m\u001b[0m\u001b[0;34m\u001b[0m\u001b[0m\n\u001b[0;32m--> 211\u001b[0;31m     \u001b[0;32mreturn\u001b[0m \u001b[0mnlp\u001b[0m\u001b[0;34m.\u001b[0m\u001b[0mfrom_disk\u001b[0m\u001b[0;34m(\u001b[0m\u001b[0mmodel_path\u001b[0m\u001b[0;34m,\u001b[0m \u001b[0mexclude\u001b[0m\u001b[0;34m=\u001b[0m\u001b[0mdisable\u001b[0m\u001b[0;34m)\u001b[0m\u001b[0;34m\u001b[0m\u001b[0;34m\u001b[0m\u001b[0m\n\u001b[0m\u001b[1;32m    212\u001b[0m \u001b[0;34m\u001b[0m\u001b[0m\n\u001b[1;32m    213\u001b[0m \u001b[0;34m\u001b[0m\u001b[0m\n",
      "\u001b[0;32m/Library/Frameworks/Python.framework/Versions/3.8/lib/python3.8/site-packages/spacy/language.py\u001b[0m in \u001b[0;36mfrom_disk\u001b[0;34m(self, path, exclude, disable)\u001b[0m\n\u001b[1;32m    945\u001b[0m             \u001b[0;31m# Convert to list here in case exclude is (default) tuple\u001b[0m\u001b[0;34m\u001b[0m\u001b[0;34m\u001b[0m\u001b[0;34m\u001b[0m\u001b[0m\n\u001b[1;32m    946\u001b[0m             \u001b[0mexclude\u001b[0m \u001b[0;34m=\u001b[0m \u001b[0mlist\u001b[0m\u001b[0;34m(\u001b[0m\u001b[0mexclude\u001b[0m\u001b[0;34m)\u001b[0m \u001b[0;34m+\u001b[0m \u001b[0;34m[\u001b[0m\u001b[0;34m\"vocab\"\u001b[0m\u001b[0;34m]\u001b[0m\u001b[0;34m\u001b[0m\u001b[0;34m\u001b[0m\u001b[0m\n\u001b[0;32m--> 947\u001b[0;31m         \u001b[0mutil\u001b[0m\u001b[0;34m.\u001b[0m\u001b[0mfrom_disk\u001b[0m\u001b[0;34m(\u001b[0m\u001b[0mpath\u001b[0m\u001b[0;34m,\u001b[0m \u001b[0mdeserializers\u001b[0m\u001b[0;34m,\u001b[0m \u001b[0mexclude\u001b[0m\u001b[0;34m)\u001b[0m\u001b[0;34m\u001b[0m\u001b[0;34m\u001b[0m\u001b[0m\n\u001b[0m\u001b[1;32m    948\u001b[0m         \u001b[0mself\u001b[0m\u001b[0;34m.\u001b[0m\u001b[0m_path\u001b[0m \u001b[0;34m=\u001b[0m \u001b[0mpath\u001b[0m\u001b[0;34m\u001b[0m\u001b[0;34m\u001b[0m\u001b[0m\n\u001b[1;32m    949\u001b[0m         \u001b[0;32mreturn\u001b[0m \u001b[0mself\u001b[0m\u001b[0;34m\u001b[0m\u001b[0;34m\u001b[0m\u001b[0m\n",
      "\u001b[0;32m/Library/Frameworks/Python.framework/Versions/3.8/lib/python3.8/site-packages/spacy/util.py\u001b[0m in \u001b[0;36mfrom_disk\u001b[0;34m(path, readers, exclude)\u001b[0m\n\u001b[1;32m    652\u001b[0m         \u001b[0;31m# Split to support file names like meta.json\u001b[0m\u001b[0;34m\u001b[0m\u001b[0;34m\u001b[0m\u001b[0;34m\u001b[0m\u001b[0m\n\u001b[1;32m    653\u001b[0m         \u001b[0;32mif\u001b[0m \u001b[0mkey\u001b[0m\u001b[0;34m.\u001b[0m\u001b[0msplit\u001b[0m\u001b[0;34m(\u001b[0m\u001b[0;34m\".\"\u001b[0m\u001b[0;34m)\u001b[0m\u001b[0;34m[\u001b[0m\u001b[0;36m0\u001b[0m\u001b[0;34m]\u001b[0m \u001b[0;32mnot\u001b[0m \u001b[0;32min\u001b[0m \u001b[0mexclude\u001b[0m\u001b[0;34m:\u001b[0m\u001b[0;34m\u001b[0m\u001b[0;34m\u001b[0m\u001b[0m\n\u001b[0;32m--> 654\u001b[0;31m             \u001b[0mreader\u001b[0m\u001b[0;34m(\u001b[0m\u001b[0mpath\u001b[0m \u001b[0;34m/\u001b[0m \u001b[0mkey\u001b[0m\u001b[0;34m)\u001b[0m\u001b[0;34m\u001b[0m\u001b[0;34m\u001b[0m\u001b[0m\n\u001b[0m\u001b[1;32m    655\u001b[0m     \u001b[0;32mreturn\u001b[0m \u001b[0mpath\u001b[0m\u001b[0;34m\u001b[0m\u001b[0;34m\u001b[0m\u001b[0m\n\u001b[1;32m    656\u001b[0m \u001b[0;34m\u001b[0m\u001b[0m\n",
      "\u001b[0;32m/Library/Frameworks/Python.framework/Versions/3.8/lib/python3.8/site-packages/spacy/language.py\u001b[0m in \u001b[0;36m<lambda>\u001b[0;34m(p)\u001b[0m\n\u001b[1;32m    928\u001b[0m         \u001b[0mdeserializers\u001b[0m \u001b[0;34m=\u001b[0m \u001b[0mOrderedDict\u001b[0m\u001b[0;34m(\u001b[0m\u001b[0;34m)\u001b[0m\u001b[0;34m\u001b[0m\u001b[0;34m\u001b[0m\u001b[0m\n\u001b[1;32m    929\u001b[0m         \u001b[0mdeserializers\u001b[0m\u001b[0;34m[\u001b[0m\u001b[0;34m\"meta.json\"\u001b[0m\u001b[0;34m]\u001b[0m \u001b[0;34m=\u001b[0m \u001b[0;32mlambda\u001b[0m \u001b[0mp\u001b[0m\u001b[0;34m:\u001b[0m \u001b[0mself\u001b[0m\u001b[0;34m.\u001b[0m\u001b[0mmeta\u001b[0m\u001b[0;34m.\u001b[0m\u001b[0mupdate\u001b[0m\u001b[0;34m(\u001b[0m\u001b[0msrsly\u001b[0m\u001b[0;34m.\u001b[0m\u001b[0mread_json\u001b[0m\u001b[0;34m(\u001b[0m\u001b[0mp\u001b[0m\u001b[0;34m)\u001b[0m\u001b[0;34m)\u001b[0m\u001b[0;34m\u001b[0m\u001b[0;34m\u001b[0m\u001b[0m\n\u001b[0;32m--> 930\u001b[0;31m         deserializers[\"vocab\"] = lambda p: self.vocab.from_disk(\n\u001b[0m\u001b[1;32m    931\u001b[0m             \u001b[0mp\u001b[0m\u001b[0;34m\u001b[0m\u001b[0;34m\u001b[0m\u001b[0m\n\u001b[1;32m    932\u001b[0m         ) and _fix_pretrained_vectors_name(self)\n",
      "\u001b[0;32mvocab.pyx\u001b[0m in \u001b[0;36mspacy.vocab.Vocab.from_disk\u001b[0;34m()\u001b[0m\n",
      "\u001b[0;32mstrings.pyx\u001b[0m in \u001b[0;36mspacy.strings.StringStore.from_disk\u001b[0;34m()\u001b[0m\n",
      "\u001b[0;32m/Library/Frameworks/Python.framework/Versions/3.8/lib/python3.8/site-packages/srsly/_json_api.py\u001b[0m in \u001b[0;36mread_json\u001b[0;34m(location)\u001b[0m\n\u001b[1;32m     50\u001b[0m     \u001b[0mfile_path\u001b[0m \u001b[0;34m=\u001b[0m \u001b[0mforce_path\u001b[0m\u001b[0;34m(\u001b[0m\u001b[0mlocation\u001b[0m\u001b[0;34m)\u001b[0m\u001b[0;34m\u001b[0m\u001b[0;34m\u001b[0m\u001b[0m\n\u001b[1;32m     51\u001b[0m     \u001b[0;32mwith\u001b[0m \u001b[0mfile_path\u001b[0m\u001b[0;34m.\u001b[0m\u001b[0mopen\u001b[0m\u001b[0;34m(\u001b[0m\u001b[0;34m\"r\"\u001b[0m\u001b[0;34m,\u001b[0m \u001b[0mencoding\u001b[0m\u001b[0;34m=\u001b[0m\u001b[0;34m\"utf8\"\u001b[0m\u001b[0;34m)\u001b[0m \u001b[0;32mas\u001b[0m \u001b[0mf\u001b[0m\u001b[0;34m:\u001b[0m\u001b[0;34m\u001b[0m\u001b[0;34m\u001b[0m\u001b[0m\n\u001b[0;32m---> 52\u001b[0;31m         \u001b[0;32mreturn\u001b[0m \u001b[0mujson\u001b[0m\u001b[0;34m.\u001b[0m\u001b[0mload\u001b[0m\u001b[0;34m(\u001b[0m\u001b[0mf\u001b[0m\u001b[0;34m)\u001b[0m\u001b[0;34m\u001b[0m\u001b[0;34m\u001b[0m\u001b[0m\n\u001b[0m\u001b[1;32m     53\u001b[0m \u001b[0;34m\u001b[0m\u001b[0m\n\u001b[1;32m     54\u001b[0m \u001b[0;34m\u001b[0m\u001b[0m\n",
      "\u001b[0;31mKeyboardInterrupt\u001b[0m: "
     ]
    }
   ],
   "source": [
    "tokenized_art =[]\n",
    "for art in master_art['content'].values:\n",
    "    tokenized_art.append(' '.join(lyric_tokenizer(art)))"
   ]
  },
  {
   "cell_type": "code",
   "execution_count": null,
   "metadata": {},
   "outputs": [],
   "source": []
  }
 ]
}