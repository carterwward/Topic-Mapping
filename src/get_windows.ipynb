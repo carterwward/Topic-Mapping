{
 "cells": [
  {
   "cell_type": "code",
   "execution_count": null,
   "metadata": {
    "collapsed": true
   },
   "outputs": [],
   "source": [
    "%load_ext autoreload\n",
    "%autoreload 2"
   ]
  },
  {
   "cell_type": "code",
   "execution_count": null,
   "metadata": {},
   "outputs": [],
   "source": []
  },
  {
   "cell_type": "code",
   "execution_count": 1,
   "metadata": {
    "collapsed": true
   },
   "outputs": [
    {
     "output_type": "stream",
     "name": "stdout",
     "text": [
      "/Users/carterward/Documents/GitHub/Topic-Mapping\n"
     ]
    }
   ],
   "source": [
    "from sklearn.datasets import fetch_20newsgroups\n",
    "import numpy as np\n",
    "import pandas as pd\n",
    "from tqdm import tqdm\n",
    "import spacy\n",
    "from gensim import corpora, models\n",
    "import os\n",
    "os.chdir(\"Documents/GitHub/Topic-Mapping\")\n",
    "print(os.getcwd())\n",
    "from src.utils import preprocess, get_windows\n",
    "\n",
    "import requests\n",
    "requests.packages.urllib3.disable_warnings()\n",
    "import ssl\n",
    "\n",
    "try:\n",
    "    _create_unverified_https_context = ssl._create_unverified_context\n",
    "except AttributeError:\n",
    "    # Legacy Python that doesn't verify HTTPS certificates by default\n",
    "    pass\n",
    "else:\n",
    "    # Handle target environment that doesn't support HTTPS verification\n",
    "    ssl._create_default_https_context = _create_unverified_https_context"
   ]
  },
  {
   "cell_type": "code",
   "execution_count": 2,
   "metadata": {
    "collapsed": true
   },
   "outputs": [],
   "source": [
    "MIN_COUNTS = 20\n",
    "MAX_COUNTS = 1800\n",
    "# words with count < MIN_COUNTS\n",
    "# and count > MAX_COUNTS\n",
    "# will be removed\n",
    "\n",
    "MIN_LENGTH = 15\n",
    "# minimum document length \n",
    "# (number of words)\n",
    "# after preprocessing\n",
    "\n",
    "# half the size of the context around a word\n",
    "HALF_WINDOW_SIZE = 5\n",
    "# it must be that 2*HALF_WINDOW_SIZE < MIN_LENGTH"
   ]
  },
  {
   "cell_type": "markdown",
   "metadata": {},
   "source": [
    "# Load NLP model"
   ]
  },
  {
   "cell_type": "code",
   "execution_count": 3,
   "metadata": {
    "collapsed": true
   },
   "outputs": [],
   "source": [
    "nlp = spacy.load('en')"
   ]
  },
  {
   "cell_type": "markdown",
   "metadata": {},
   "source": [
    "# Load dataset"
   ]
  },
  {
   "cell_type": "code",
   "execution_count": 4,
   "metadata": {
    "collapsed": true
   },
   "outputs": [],
   "source": [
    "# dataset = fetch_20newsgroups(subset='all', remove=('headers', 'footers', 'quotes'))\n",
    "# docs = dataset['data']\n",
    "dataset = pd.read_csv(\"data/song_df.csv\")\n",
    "docs = dataset[\"tokenized_lyrics\"].values\n",
    "docs = [doc for doc in docs if not pd.isna(doc)]"
   ]
  },
  {
   "cell_type": "code",
   "execution_count": 5,
   "metadata": {},
   "outputs": [
    {
     "output_type": "execute_result",
     "data": {
      "text/plain": [
       "str"
      ]
     },
     "metadata": {},
     "execution_count": 5
    }
   ],
   "source": [
    "type(docs[0])"
   ]
  },
  {
   "cell_type": "code",
   "execution_count": 6,
   "metadata": {},
   "outputs": [
    {
     "output_type": "execute_result",
     "data": {
      "text/plain": [
       "9568"
      ]
     },
     "metadata": {},
     "execution_count": 6
    }
   ],
   "source": [
    "# number of documents\n",
    "len(docs)"
   ]
  },
  {
   "cell_type": "code",
   "execution_count": 7,
   "metadata": {
    "collapsed": true
   },
   "outputs": [],
   "source": [
    "# store an index with a document\n",
    "docs = [(i, doc) for i, doc in enumerate(docs)]"
   ]
  },
  {
   "cell_type": "markdown",
   "metadata": {},
   "source": [
    "# Preprocess dataset and create windows"
   ]
  },
  {
   "cell_type": "code",
   "execution_count": 8,
   "metadata": {},
   "outputs": [
    {
     "output_type": "execute_result",
     "data": {
      "text/plain": [
       "ad backache head feel new form night stick ice pack sit maniac pound muscle horn remember smilin kick mud bright light recall cussin lose control send high flight money fame cause throw ground bloody reason walk away stumble pick joint pop different place know highway track mind stick replay start real mad lose track buckle big check remember time land pile b.s money fame cause throw ground bloody reason walk away money fame cause throw ground bloody reason walk away walk away walk away walk away'),\n",
       " (966,\n",
       "  'laughin talkin window shopping new guy hear hear find right goodbye come real close lose temper bit tongue cool remember care matter love anymore know slip mind tell time guess forget second care 10:00 know car park drive pull knock door piece mind drivin place wonderin far way care matter love anymore know slip mind tell time guess forget second care home light blinkin old machine brother town leave miss ring care matter love mind hopin know late drivin care care'),\n",
       " (967,\n",
       "  'home thirty fix drink sit chair pick fight momma complain kid hair night sit smoke frown lighter flame frown mirror daddy blood inside vein fish swim bird fly daddy yell momma cry old man sit think drink chicken tv dinner minute defrost high beer wash whiskey bad bother night need lover hang try change fish swim bird fly lover leave old man sit think drink know damn fish swim bird fly daddy yell momma cry old man sit think drink drink'),\n",
       " (968,\n",
       "  'tell regret day leave nerve laugh walk away month eighteen day feel pain tell leave feel burning hurting love work right longing long cold night lonely lean time tough come heartache lord know live love lonely need need wrong knee floor want live heartbeat misery pride feel burning hurting love work right longing long cold night lonely lean time tough come heartache lord know live love lonely lonely lonely'),\n",
       " (969,\n",
       "  'need drink johnny walker red need drag marlboro cigarette need tell alright need lie tonight need girl need baby need ninety mile hour interstate headlight shine driveway arm need right need baby world need girl need buddy town tv preacher warn road need let sorry roll lip need let pride talk need girl need baby need ninety mile hour interstate headlight shine driveway arm need right need baby world need girl need life depend walk door need girl need girl need girl need baby need ninety mile hour interstate headlight shine driveway arm need right need baby world need girl need girl need girl need girl'),\n",
       " (970,\n",
       "  'summer sun day prick owner son hillbilly pay work right lunch bust hump help daddy stay rich pull overtime tell little son bitch punch clock pain rear adio find son hottie ice cold beer break hump hurt lucky easily finger work drag home night time wear way short tight leave dog couch word round sneak downtown dance way risky dirty dance cute little finger wave come look thing know number baby'),\n",
       " (971,\n",
       "  'know matter need attention plan look someday busy money want proud wish turn clock way think time think leave think find near phone answer attention think expect think time think time planet pretty flower stand talk wind wish tell wish shout love love love love think time think time think time think time'),\n",
       " (972,\n",
       "  'cloud baby raindrop feed treetop cloud sun shine flower pass power sun moon caress ocean celestial motion moon star charm enchant wish grant star man kiss linger melt finger man man share shower wash away hour baby man song reach people barroom steeple song dream sweet honey big money dream man dance daisy crazy girl man man pump passion fashion baby man hurry rub away worry girl man man forever baby man love heal nation everybody station love man sweet love man man man'),\n",
       " (973,\n",
       "  'home christmas count snow mistletoe present tree christmas eve find love light gleam home christmas dream dream'),\n",
       " (974,\n",
       "  'taste kiss lip wrap finger tip watch moonlight dance skin green eye sweet red wine head girl time drunk lose control fall know play heart tomorrow hell night love help hold hold hold girl know gypsy soul stop road hang long blow mind star scar tattoo heart fill oklahoma sky girl know fall know play heart tomorrow hell night love help hold hold hold hold hold hold look cell phone ring know mean care hold time need home break heart care hold green eye sweet red wine head girl time care hold'),\n",
       " (975,\n",
       "  'girl high time tell messin time lay card table throw talkin street real thing feel thing swing find spot find money pretty funny plant flower plant kiss baby let right business hang picture hang star pick paint pick guitar sing song cricket frog baby dog park car driveway park truck grass little swing porch little tea glass watch sunset gravel road kiss kitchen tippy toe love rooster crow watchin way garden grow find spot find money pretty funny plant flower plant kiss baby let right business hang picture hang star pick paint pick guitar sing song cricket frog baby dog layin night sound damn good life find spot find money pretty funny plant flower plant kiss baby let right business hang picture hang star pick paint pick guitar sing song cricket frog baby dog dog baby dog dog'),\n",
       " (976,\n",
       "  'know think time spend think deserve try girl know expect look eye sorry sorry want way sorry sorry good mean hurt true think forgive remember time love know love lie girl know expect look eye sorry sorry sorry want way sorry sorry good'),\n",
       " (977,\n",
       "  'heaven lawyer need dotted line folk business ought good firm handshake work fine feed lawyer lion heaven child tote loaded gun school thing peer pressure cool teach golden rule heaven hurt lie cry die young lonely scared welcome heaven heaven sing elvis play guitar b. b. king slide fastball past hank aaron batter batter batter swing know god decision heaven tell business leave heaven football referee heaven injury heaven angel yodel sing heaven fish bite heaven heaven heaven'),\n",
       " (978,\n",
       "  'easy easy easy easy easy easy easy easy easy use alright goodnight maybe tomorrow couple day thing want kiss hit lightning fight girl stone lonely easy anymore walk door foot drag floor kill hate pick key hate kiss goodbye lie look eye arm girl believe easy anymore easy sure different friday night neon light love phone hurry home special damn hard leave easy anymore walk door foot drag floor kill hate pick key hate kiss goodbye lie look eye arm girl believe easy leave baby bed drive away know thing leave lie girl crazy easy easy sure baby baby easy anymore walk door foot drag floor kill hate pick key hate kiss goodbye lie look eye arm girl believe easy anymore easy walk door easy easy walk door easy easy'),\n",
       " (979,\n",
       "  'ought town feel mayor welcome sorryville map exist wrong turn hard miss ought bridge dedicate probably come ceremony gasoline walk light match sit stare smoke flame wonder thing bear way self fool shoot light curse dark need love break heart know word bring watch pack work jerk come easy ought act freak star marquee room big red button danger touch twice day mash watch self destruct thing bear way self fool shoot light curse dark need love break heart know word bring watch pack work jerk come easy easy'),\n",
       " (980,\n",
       "  'angel saint decorate bar town big red coat paint good thing good raisin hell raise roll yonder know let jesus tight grip soul let let devil reach grab hold jesus tight grip soul let let little rust halo know jesus tight grip soul little cold beer holy water true saturday night old bar stool sunday morning pew old hank williams finally light hallelujah neon kind jesus tight grip soul let let devil reach grab hold jesus tight grip soul let let little rust halo know jesus tight grip soul jesus tight grip soul long long way know jesus tight grip soul let let devil reach grab hold jesus tight grip soul let let little rust halo know jesus tight grip soul jesus tight grip soul let'),\n",
       " (981,\n",
       "  'jingle bell jingle bell jingle bell rock jingle bell swing jingle bell snow blow bushel fun jingle hop begin jingle bell jingle bell jingle bell twist jingle bell chime jingle bell time dancing prance jingle bell square frosty air bright time right time rock night away jingle bell time swell time ride horse sleigh giddy jingle horse pick foot jingle clock mix mingle jingle foot jingle bell rock giddy jingle horse pick foot jingle clock mix mingle jingle foot jingle bell jingle bell jingle bell jingle bell rock'),\n",
       " (982,\n",
       "  'sun drop face earth world wash hard day work band kick night song seven seven cutting cross sky granny slipper kiss pa goodnight lock hatch butt crack dawn gettin start drinking picking singe drop line hit stranger pop fire party gettin start people midnight hour silver bullet proof whiskey power gettin louder louder night roll gettin drunk stone night owl neon lighter liquore lover bar room fighter slow light weight crowd home cause gettin start drinking picking singe drop line hit stranger pop fire party gettin start hate night run time moon jug shine bird singe bring daylight gettin start drinking picking singe drop line hit stranger pop fire party gettin start gettin start'),\n",
       " (983,\n",
       "  'taste whiskey kiss lip know hittin gettin tipsy sit levi dogwood branch takin lose innocence savin soul summer know eternity somebody wind know park chevy deep river rollin summer night shootin star paradise gettin kissin sippin seven seven south heaven fallin angel nah care think prayer answer whispered sweet southern drawl close eye silhouette dance river way spend endless night way spend forever know eternity somebody wind know park chevy deep river rollin summer night shootin star paradise gettin kissin sippin seven seven south heaven jericho line little white church roll pine cross river unwind heaven earth man know eternity somebody wind know park chevy deep river rollin summer night shootin star paradise gettin kissin sippin seven seven south heaven south heaven jericho line little white church roll pine cross river unwind heaven earth man little bit south heaven'),\n",
       " (984,\n",
       "  'think grab bottle patron work way home fill hot tub bubble bath kick relax baby weekend come time need mind mind wait lay low stay home stay high stay love night want run finger single inch time slow stay home stay high lie low let kiss talk girl world feel million mile lay low stay home stay high stay love night want run finger single inch time slow stay home stay high lay low stay home stay high stay love night want run finger single inch time slow stay home stay high lie low stay home stay high lie low'),\n",
       " (985,\n",
       "  'weather outside frightful fire delightful place let snow let snow let snow sign stop buy corn popping light turn way low let snow let snow let snow finally kiss goodnight hate storm hold tight way home warm fire slowly die dear goodbye long love let snow let snow let snow na na na na come na na na fire slowly die dear goodbye long love let snow let snow let snow let snow let snow let snow let snow let snow let snow'),\n",
       " (986,\n",
       "  'think pick phone friday night town think sittin home tv mind way thinkin time lonely tonight need want right lonely tonight know care wanna right wanna strong wanna hold heartbreak sun come lonely tonight taste touch fire miss kiss eye red wine lip use baby want want lonely tonight need want right lonely tonight know care wanna right wanna strong wanna hold heart break stone sun come lonely tonight time lonely tonight need right lonely tonight tonight tonight'),\n",
       " (987,\n",
       "  'little little babe come long long way pick piece throw away let way matter cause finally come hope find belong hello goodbye life town little place look eye pretty face fool know think hold arm let stay cause love sweet love way minute minute hear voice heart new start think little drink little cause wait smile smile face fact love thing'),\n",
       " (988,\n",
       "  'time high good hand sex guilty pleasure old ask bad hangover good night proof marlboro red good damn thing lucke easy girl sun shinin road flyin singin crazy fool makin word laughin hurt baby choose good day fine hour wild dream come true double dare crazy thing plain tattoo look arm sun shinin road flyin singin crazy fool makin word laughin hurt baby choose good day fine hour wild dream come true great chapter book page hurt look regret work baby baby taillight fadin daylight breakin stand fool runnin yellin want hold good love girl tell thing die lose'),\n",
       " (989,\n",
       "  'meet fore know playin penny dive bar stage split star special date waffle house booth daddy cryin away country song play come 401k pack carpet taste million dollar bill bed room apartment feel house hill truck driveway roll clean cadillac girl lookin lookin way man feel rich minimum wage girl love money love money love man feel rich minimum wage girl love money love money love man feel rich minimum wage tab open yacht park ocean keepin jones style light string yard lawn chair star world right time smile pack carpet taste million dollar bill bed room apartment feel house hill truck driveway roll clean cadillac girl lookin lookin way man feel rich minimum wage girl love money love money love man feel rich minimum wage girl love money love money love man feel rich minimum wage pack carpet taste million dollar bill bed room apartment feel house hill truck driveway roll clean cadillac girl lookin lookin way man feel rich minimum wage girl love money love money love man feel rich minimum wage girl love money love money love man feel rich minimum wage girl love money love money girl love man feel rich minimum wage'),\n",
       " (990,\n",
       "  'meet fore know play penny dive bar stage split star special date waffle house booth daddy cry away country song play come 401k pack carpet taste million dollar bill bedroom apartment feel house hill truck driveway roll clean cadillac girl lookin look mе way man feel rich minimum wage girl love monеy love money love man feel rich minimum wage girl love money love money love man feel rich minimum wage tab open yacht park ocean jones style light string yard lawn chair star world right time smile pack carpet taste million dollar bill bedroom apartment feel house hill truck driveway roll clean cadillac girl lookin look way man feel rich minimum wage girl love money love money love man feel rich minimum wage girl love money love money love man feel rich minimum wage pack carpet taste million dollar bill bedroom apartment feel house hill truck driveway roll clean cadillac girl lookin look way man feel rich minimum wage girl love money love money love man feel rich minimum wage girl love money love money love man feel rich minimum wage girl love money love money girl love man feel rich minimum wage'),\n",
       " (991,\n",
       "  'writin rubber rent check livin raman chappin ass afford charmin rockin ply ply shakin couch find buffalo nickel medium guitar pick burger king pickle kinda petrified petrified dollar worth gas needle livin leave penny penny life door unlocked leave steal baby doll alright girl million dollar kiss know feelin filthy rich girl body hit lottery honey money money money money money money money money money girl sure tell workin butt way rockin secondhand cut talk takin score little discount pack keystone use paper sack twist little homegrown friday night girl day look laughin sippin pomegranate sake nobu baby girl million dollar kiss know feelin filthy rich girl body hit lottery honey money money money money money money money money money dollar worth gas needle livin leave penny penny life door unlocked leave steal baby doll alright girl million dollar kiss know feelin filthy rich girl body hit lottery honey money money money money money money money money money money money money money'),\n",
       " (992,\n",
       "  'high heel sun dress turquoise heart hang round neck red lip wine want drink drink drunk tie hair want let let rest fall ground beautiful max help look come little close come little close come little close girl way look tonight eye thing want come little close come little close come little close girl way look tonight eye thing want million star dance sky picture perfect moon bright care look stand beat view come little close come little close come little close girl way look tonight eye thing want come little close come little close come little close girl way look tonight eye thing want eye amazing thing girl eye baby come little close come little close come little close girl way look tonight eye thing want come little close come little close come little close girl way look tonight eye thing want come little close come little close come little close girl way look tonight eye thing want'),\n",
       " (993,\n",
       "  'grandpa lane blazing sun pour rain sells tomato pickup truck read bible line line sip homemade wine dad got crippled hand casualty vietnam sawmill day thing fore break dawn mama egg coffee life way come holler sweat blue collar living hard living good god send heaven hang neck wood sure river flow care step right need friend year johnson farm fire wipe house barn town build right'),\n",
       " (994,\n",
       "  'leave ridin round crank little country gold heartbreak cry dry tear know missin pray pray pray sign sign sign window time damn time neon light end tunnel bright subtle feel alright double neon light end tunnel tunnel tunnel shot care chase cold screw wash big pitcher new blond blonde blonde bar bar bar want try unbreak heart heart heart neon light end tunnel bright subtle feel alright double neon light end tunnel tunnel tunnel think life suck forever know pain end night dark dawn kiss day break knee pray pray pray sign sign sign window time damn time neon light end tunnel bright subtle feel alright double neon light end tunnel tunnel tunnel'),\n",
       " (995,\n",
       "  'listen use day want hang boy night day walk dead end job good day afraid old matter honey love thing bind change thing stay ought thing mean die today find way live forever matter darling love time think look good use time auburn hair turn gray time think blow mind tell matter darling love matter honey love'),\n",
       " (996,\n",
       "  'waste time look shoulder love past close look future love love ought love cry leave want ask pretty honey love time tell feel long mean real diamond knee love love ought love cry leave want ask pretty honey love love ought love cry leave want ask pretty honey love love'),\n",
       " (997,\n",
       "  'let oklahoma christmas old fashioned step time little old tree oklahoma christmas tennessee power line town westbound sheet ice hear weatherman way guess tonight granny tell news oklahoma christmas let old fashioned stepping time round little old tree oklahoma christmas tennessee right big slice aunt bea pecan pie plate whip big old golden brown chicken fry steak bob wills set mood think pack 3.2 oklahoma christmas let old fashioned stepping time little old tree oklahoma christmas tennessee baby ok blue need oklahoma christmas old fashioned step time little old tree step oklahoma christmas tennessee tennessee'),\n",
       " (998,\n",
       "  \"catch wife man cost ninety prison farm georgia close florida line long year finally warden friend sentence life ease care old red old red damned dog got nose smell day trail legged trackin machine consider mighty lucky past gator quicksand bed year past red warden sing come somebody run old red itchin little fun lantern gun red'll treed mornin come pay guard slip letter cousin tennessee bring blue tick hound pretty pen swampland mile south gate old red evenin run drop wait warden sing come somebody run old red itchin little fun lantern gun red'll treed mornin come old red real use seein lady night away day wait time right run evenin sun smile hear let red cause head north tennessee old red head south warden sing come somebody run old red itchin little fun lantern gun red'll treed mornin come red haired blue tick south love love\"),\n",
       " (999,\n",
       "  'good day think cry couple tear good day forget dull pain couple beer good day fake smile somebody ok plainly good day set dollar come joe number brother pour car drive home good day kind man barely tolerate plainly good day good day crash party know good day stop start major fool good day quick duck new love punch face plainly good day joe good day good day'),\n",
       " ...]"
      ]
     },
     "metadata": {},
     "execution_count": 8
    }
   ],
   "source": [
    "docs"
   ]
  },
  {
   "cell_type": "code",
   "execution_count": 10,
   "metadata": {
    "scrolled": true,
    "tags": []
   },
   "outputs": [
    {
     "output_type": "stream",
     "name": "stderr",
     "text": [
      "100%|██████████| 9568/9568 [00:00<00:00, 57236.19it/s]\n",
      "number of removed short documents: 94\n",
      "total number of tokens: 1102117\n",
      "number of tokens to be removed: 481116\n",
      "number of additionally removed short documents: 354\n",
      "total number of tokens: 617309\n",
      "\n",
      "minimum word count number: 17\n",
      "this number can be less than MIN_COUNTS because of document removal\n"
     ]
    }
   ],
   "source": [
    "encoded_docs, decoder, word_counts = preprocess(\n",
    "    docs, nlp, MIN_LENGTH, MIN_COUNTS, MAX_COUNTS\n",
    ")"
   ]
  },
  {
   "cell_type": "code",
   "execution_count": 11,
   "metadata": {
    "collapsed": true
   },
   "outputs": [],
   "source": [
    "# new ids will be created for the documents.\n",
    "# create a way of restoring initial ids:\n",
    "doc_decoder = {i: doc_id for i, (doc_id, doc) in enumerate(encoded_docs)}"
   ]
  },
  {
   "cell_type": "code",
   "execution_count": 12,
   "metadata": {},
   "outputs": [
    {
     "output_type": "stream",
     "name": "stderr",
     "text": [
      "9120it [00:01, 7474.45it/s]\n"
     ]
    }
   ],
   "source": [
    "data = []\n",
    "# new ids are created here\n",
    "for index, (_, doc) in tqdm(enumerate(encoded_docs)):\n",
    "    windows = get_windows(doc, HALF_WINDOW_SIZE)\n",
    "    # index represents id of a document, \n",
    "    # windows is a list of (word, window around this word),\n",
    "    # where word is in the document\n",
    "    data += [[index, w[0]] + w[1] for w in windows]\n",
    "\n",
    "data = np.array(data, dtype='int64')"
   ]
  },
  {
   "cell_type": "code",
   "execution_count": 13,
   "metadata": {},
   "outputs": [
    {
     "output_type": "execute_result",
     "data": {
      "text/plain": [
       "12"
      ]
     },
     "metadata": {},
     "execution_count": 13
    }
   ],
   "source": [
    "# a row in 'data' contains:\n",
    "# id of a document, id of a word in this document, a window around this word\n",
    "# 1 + 1 + 10\n",
    "data.shape[1]"
   ]
  },
  {
   "cell_type": "code",
   "execution_count": 14,
   "metadata": {},
   "outputs": [
    {
     "output_type": "execute_result",
     "data": {
      "text/plain": [
       "617309"
      ]
     },
     "metadata": {},
     "execution_count": 14
    }
   ],
   "source": [
    "# number of windows (equals to the total number of tokens)\n",
    "data.shape[0]"
   ]
  },
  {
   "cell_type": "markdown",
   "metadata": {},
   "source": [
    "# Get unigram distribution"
   ]
  },
  {
   "cell_type": "code",
   "execution_count": 15,
   "metadata": {
    "collapsed": true
   },
   "outputs": [],
   "source": [
    "word_counts = np.array(word_counts)\n",
    "unigram_distribution = word_counts/sum(word_counts)"
   ]
  },
  {
   "cell_type": "markdown",
   "metadata": {},
   "source": [
    "# Prepare word vectors"
   ]
  },
  {
   "cell_type": "code",
   "execution_count": 16,
   "metadata": {},
   "outputs": [
    {
     "output_type": "stream",
     "name": "stdout",
     "text": [
      "CPU times: user 11min 9s, sys: 4.69 s, total: 11min 13s\nWall time: 2min 59s\n"
     ]
    }
   ],
   "source": [
    "%%time\n",
    "vocab_size = len(decoder)\n",
    "embedding_dim = 50\n",
    "\n",
    "# train a skip-gram word2vec model\n",
    "texts = [[str(j) for j in doc] for i, doc in encoded_docs]\n",
    "model = models.Word2Vec(texts, size=embedding_dim, window=5, workers=4, sg=1, negative=15, iter=70)\n",
    "model.init_sims(replace=True)\n",
    "\n",
    "word_vectors = np.zeros((vocab_size, embedding_dim)).astype('float32')\n",
    "for i in decoder:\n",
    "    word_vectors[i] = model.wv[str(i)]"
   ]
  },
  {
   "cell_type": "code",
   "execution_count": 17,
   "metadata": {},
   "outputs": [
    {
     "output_type": "execute_result",
     "data": {
      "text/plain": [
       "4484"
      ]
     },
     "metadata": {},
     "execution_count": 17
    }
   ],
   "source": [
    "# number of unique words\n",
    "vocab_size"
   ]
  },
  {
   "cell_type": "markdown",
   "metadata": {
    "collapsed": true
   },
   "source": [
    "# Prepare initialization for document weights"
   ]
  },
  {
   "cell_type": "code",
   "execution_count": 18,
   "metadata": {
    "collapsed": true
   },
   "outputs": [],
   "source": [
    "texts = [[decoder[j] for j in doc] for i, doc in encoded_docs]\n",
    "dictionary = corpora.Dictionary(texts)\n",
    "corpus = [dictionary.doc2bow(text) for text in texts]"
   ]
  },
  {
   "cell_type": "code",
   "execution_count": 19,
   "metadata": {},
   "outputs": [
    {
     "output_type": "stream",
     "name": "stdout",
     "text": [
      "CPU times: user 6.07 s, sys: 74.8 ms, total: 6.15 s\nWall time: 6.24 s\n"
     ]
    }
   ],
   "source": [
    "%%time\n",
    "n_topics = 25\n",
    "lda = models.LdaModel(corpus, alpha=0.9, id2word=dictionary, num_topics=n_topics)\n",
    "corpus_lda = lda[corpus]"
   ]
  },
  {
   "cell_type": "code",
   "execution_count": 20,
   "metadata": {},
   "outputs": [
    {
     "output_type": "stream",
     "name": "stdout",
     "text": [
      "topic 0 : bear help easy shame send wild street soul door sun\ntopic 1 : sick ask sunshine problem lookin news wake summer babe black\ntopic 2 : hell kiss half kind skin cold country booty bom slip\ntopic 3 : jump jesus roll straight young step single somebody peace problem\ntopic 4 : rock bye crazy number double bump fast hustle aye roll\ntopic 5 : dog shake lonely star clear movin roll remember solo body\ntopic 6 : miss kill fun poor band bang d horse bill true\ntopic 7 : shine fight catch sign window river blue word heat dancin\ntopic 8 : christmas gimme air happy oo glad true birthday fallin road\ntopic 9 : burn pum king belong pa game rum hair perfect city\ntopic 10 : party city lover sky ass enemy nah mornin going boom\ntopic 11 : sing lord forever joy count power follow bring lift pain\ntopic 12 : fly hoo de set lonely eat babe sweet fire hole\ntopic 13 : rain town wish sweet hurt alright truth arm touch beautiful\ntopic 14 : hot smoke black shoot water rise breathe dogg pop cop\ntopic 15 : dead goodbye trouble care free guess hello soul faith line\ntopic 16 : smile sun tear red york deep settle pretty someday cowboy\ntopic 17 : ready train wind pull bed beautiful kiss drop late holy\ntopic 18 : california clap wah tryin pretty foot ride close ass runway\ntopic 19 : low thang dah wrong wrap town pop bop pass worried\ntopic 20 : close bird line throw going hang open wrong word que\ntopic 21 : woman roll beat lady blue spin soul tie voice word\ntopic 22 : ride feeling di drive round edge dum bum spread funky\ntopic 23 : happy honey fly moment bleedin sell wrong road sun maybe\ntopic 24 : drink happen red cold lonely rose blue floor fill woman\n"
     ]
    }
   ],
   "source": [
    "for i, topics in lda.show_topics(n_topics, formatted=False):\n",
    "    print('topic', i, ':', ' '.join([t for t, _ in topics]))"
   ]
  },
  {
   "cell_type": "code",
   "execution_count": 21,
   "metadata": {},
   "outputs": [
    {
     "output_type": "stream",
     "name": "stderr",
     "text": [
      "100%|██████████| 9120/9120 [00:05<00:00, 1783.95it/s]\n"
     ]
    }
   ],
   "source": [
    "doc_weights_init = np.zeros((len(corpus_lda), n_topics))\n",
    "for i in tqdm(range(len(corpus_lda))):\n",
    "    topics = corpus_lda[i]\n",
    "    for j, prob in topics:\n",
    "        doc_weights_init[i, j] = prob"
   ]
  },
  {
   "cell_type": "markdown",
   "metadata": {},
   "source": [
    "# Save data"
   ]
  },
  {
   "cell_type": "code",
   "execution_count": 25,
   "metadata": {
    "collapsed": true
   },
   "outputs": [],
   "source": [
    "np.save('model/lyrics/data.npy', data)\n",
    "np.save('model/lyrics/word_vectors.npy', word_vectors)\n",
    "np.save('model/lyrics/unigram_distribution.npy', unigram_distribution)\n",
    "np.save('model/lyrics/decoder.npy', decoder)\n",
    "np.save('model/lyrics/doc_decoder.npy', doc_decoder)\n",
    "np.save('model/lyrics/doc_weights_init.npy', doc_weights_init)"
   ]
  },
  {
   "cell_type": "code",
   "execution_count": null,
   "metadata": {},
   "outputs": [],
   "source": []
  }
 ],
 "metadata": {
  "kernelspec": {
   "display_name": "Python 3",
   "language": "python",
   "name": "python3"
  }
 },
 "nbformat": 4,
 "nbformat_minor": 2
}